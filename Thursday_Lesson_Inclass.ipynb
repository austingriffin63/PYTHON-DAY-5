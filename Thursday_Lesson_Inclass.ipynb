{
 "cells": [
  {
   "cell_type": "markdown",
   "metadata": {},
   "source": [
    "# Object-Oriented-Programming (OOP)"
   ]
  },
  {
   "cell_type": "markdown",
   "metadata": {},
   "source": [
    "## Tasks Today:\n",
    "\n",
    "<b>Bonus Topics</b>\n",
    "<br>\n",
    "- Common DataStructure\n",
    "    -Linked List\n",
    "    \n",
    "\n",
    "1) <b>Creating a Class (Initializing/Declaring)</b> <br>\n",
    "2) <b>Using a Class (Instantiating)</b> <br>\n",
    " &nbsp;&nbsp;&nbsp;&nbsp; a) Creating One Instance <br>\n",
    " &nbsp;&nbsp;&nbsp;&nbsp; b) Creating Multiple Instances <br>\n",
    " &nbsp;&nbsp;&nbsp;&nbsp; c) In-Class Exercise #1 - Create a Class 'Car' and instantiate three different makes of cars <br>\n",
    "3) <b>The \\__init\\__() Method</b> <br>\n",
    " &nbsp;&nbsp;&nbsp;&nbsp; a) The 'self' Attribute <br>\n",
    "4) <b>Class Attributes</b> <br>\n",
    " &nbsp;&nbsp;&nbsp;&nbsp; a) Initializing Attributes <br>\n",
    " &nbsp;&nbsp;&nbsp;&nbsp; b) Setting an Attribute Outside of the \\__init\\__() Method <br>\n",
    " &nbsp;&nbsp;&nbsp;&nbsp; c) Setting Defaults for Attributes <br>\n",
    " &nbsp;&nbsp;&nbsp;&nbsp; d) Accessing Class Attributes <br>\n",
    " &nbsp;&nbsp;&nbsp;&nbsp; e) Changing Class Attributes <br>\n",
    " &nbsp;&nbsp;&nbsp;&nbsp; f) In-Class Exercise #2 - Add a color and wheels attribute to your 'Car' class <br>\n",
    "5) <b>Class Methods</b> <br>\n",
    " &nbsp;&nbsp;&nbsp;&nbsp; a) Creating <br>\n",
    " &nbsp;&nbsp;&nbsp;&nbsp; b) Calling <br>\n",
    " &nbsp;&nbsp;&nbsp;&nbsp; c) Modifying an Attribute's Value Through a Method <br>\n",
    " &nbsp;&nbsp;&nbsp;&nbsp; d) Incrementing an Attribute's Value Through a Method <br>\n",
    " &nbsp;&nbsp;&nbsp;&nbsp; e) In-Class Exercise #3 - Add a method that prints the cars color and wheel number, then call them <br>\n",
    "6) <b>Inheritance</b> <br>\n",
    " &nbsp;&nbsp;&nbsp;&nbsp; a) Syntax for Inheriting from a Parent Class <br>\n",
    " &nbsp;&nbsp;&nbsp;&nbsp; b) The \\__init\\__() Method for a Child Class (super()) <br>\n",
    " &nbsp;&nbsp;&nbsp;&nbsp; c) Defining Attributes and Methods for the Child Class <br>\n",
    " &nbsp;&nbsp;&nbsp;&nbsp; d) Method Overriding <br>\n",
    " &nbsp;&nbsp;&nbsp;&nbsp; e) In-Class Exercise #4 - Create a class 'Ford' that inherits from 'Car' class and initialize it as a Blue Ford Explorer with 4 wheels using the super() method <br>\n",
    "7) <b>Classes as Attributes</b> <br>\n",
    "8) <b>Exercises</b> <br>\n",
    " &nbsp;&nbsp;&nbsp;&nbsp; a) Exercise #1 - Turn the shopping cart program from yesterday into an object-oriented program <br>"
   ]
  },
  {
   "cell_type": "markdown",
   "metadata": {},
   "source": [
    "## Creating a Class (Initializing/Declaring)\n",
    "<p>When creating a class, function, or even a variable you are initializing that object. Initializing and Declaring occur at the same time in Python, whereas in lower level languages you have to declare an object before initializing it. This is the first step in the process of using a class.</p>"
   ]
  },
  {
   "cell_type": "code",
   "execution_count": 1,
   "metadata": {},
   "outputs": [],
   "source": [
    "class Car():\n",
    "    wheels = 4\n",
    "    color = \"Blue\""
   ]
  },
  {
   "cell_type": "markdown",
   "metadata": {},
   "source": [
    "## Using a Class (Instantiating)\n",
    "<p>The process of creating a class is called <i>Instantiating</i>. Each time you create a variable of that type of class, it is referred to as an <i>Instance</i> of that class. This is the second step in the process of using a class.</p>"
   ]
  },
  {
   "cell_type": "markdown",
   "metadata": {},
   "source": [
    "##### Creating One Instance"
   ]
  },
  {
   "cell_type": "code",
   "execution_count": null,
   "metadata": {},
   "outputs": [],
   "source": [
    "ford = Car()"
   ]
  },
  {
   "cell_type": "markdown",
   "metadata": {},
   "source": [
    "##### Creating Multiple Instances"
   ]
  },
  {
   "cell_type": "code",
   "execution_count": 2,
   "metadata": {},
   "outputs": [
    {
     "data": {
      "text/plain": [
       "'Blue'"
      ]
     },
     "execution_count": 2,
     "metadata": {},
     "output_type": "execute_result"
    }
   ],
   "source": [
    "chevy = Car()\n",
    "honda = Car()\n",
    "porsche = Car()\n",
    "\n",
    "porsche.color"
   ]
  },
  {
   "cell_type": "markdown",
   "metadata": {},
   "source": [
    "##### In-Class Exercise #1 - Create a Class 'Car' and Instantiate three different makes of cars"
   ]
  },
  {
   "cell_type": "code",
   "execution_count": 3,
   "metadata": {},
   "outputs": [
    {
     "name": "stdout",
     "output_type": "stream",
     "text": [
      "red True\n"
     ]
    }
   ],
   "source": [
    "class Car():\n",
    "    doors = 4\n",
    "    color = 'red'\n",
    "    wheels = 4\n",
    "    sunRoof = True\n",
    "    \n",
    "mazda = Car()\n",
    "ford = Car()\n",
    "honda = Car()\n",
    "print(mazda.color, mazda.sunRoof)"
   ]
  },
  {
   "cell_type": "markdown",
   "metadata": {},
   "source": [
    "## The \\__init\\__() Method <br>\n",
    "<p>This method is used in almost every created class, and called only once upon the creation of the class instance. This method will initialize all variables needed for the object.</p>"
   ]
  },
  {
   "cell_type": "code",
   "execution_count": 9,
   "metadata": {},
   "outputs": [
    {
     "data": {
      "text/plain": [
       "1"
      ]
     },
     "execution_count": 9,
     "metadata": {},
     "output_type": "execute_result"
    }
   ],
   "source": [
    "class Car():\n",
    "    engine = \"4.7L\"\n",
    "    \n",
    "    def __init__(self,wheels):\n",
    "        self.wheels = wheels\n",
    "        self.color = \"Blue\"\n",
    "ford = Car(4)\n",
    "ford.wheels\n",
    "\n",
    "class Toy():\n",
    "    kind = \"car\"\n",
    "    \n",
    "    def __init__(self,rooftop,horn,wheels,bells,doors):\n",
    "        self.rooftop = rooftop\n",
    "        self.horn = horn\n",
    "        self.wheels = wheels\n",
    "        self.bells = bells\n",
    "        self.doors = doors\n",
    "tonka = Toy(1,1,4,2,4)\n",
    "tonka.horn"
   ]
  },
  {
   "cell_type": "markdown",
   "metadata": {},
   "source": [
    "##### The 'self' Attribute <br>\n",
    "<p>This attribute is required to keep track of specific instance's attributes. Without the self attribute, the program would not know how to reference or keep track of an instance's attributes.</p>"
   ]
  },
  {
   "cell_type": "code",
   "execution_count": null,
   "metadata": {},
   "outputs": [],
   "source": [
    "# see above"
   ]
  },
  {
   "cell_type": "markdown",
   "metadata": {},
   "source": [
    "## Class Attributes <br>\n",
    "<p>While variables are inside of a class, they are referred to as attributes and not variables. When someone says 'attribute' you know they're speaking about a class. Attributes can be initialized through the init method, or outside of it.</p>"
   ]
  },
  {
   "cell_type": "markdown",
   "metadata": {},
   "source": [
    "##### Initializing Attributes"
   ]
  },
  {
   "cell_type": "code",
   "execution_count": null,
   "metadata": {},
   "outputs": [],
   "source": [
    "# see above"
   ]
  },
  {
   "cell_type": "markdown",
   "metadata": {},
   "source": [
    "##### Accessing Class Attributes"
   ]
  },
  {
   "cell_type": "code",
   "execution_count": 10,
   "metadata": {
    "scrolled": true
   },
   "outputs": [
    {
     "data": {
      "text/plain": [
       "'car'"
      ]
     },
     "execution_count": 10,
     "metadata": {},
     "output_type": "execute_result"
    }
   ],
   "source": [
    "hasbaro = Toy(1,1,4,2,4)\n",
    "hasbaro.kind"
   ]
  },
  {
   "cell_type": "markdown",
   "metadata": {},
   "source": [
    "##### Setting Defaults for Attributes"
   ]
  },
  {
   "cell_type": "code",
   "execution_count": 12,
   "metadata": {},
   "outputs": [
    {
     "data": {
      "text/plain": [
       "'Oat'"
      ]
     },
     "execution_count": 12,
     "metadata": {},
     "output_type": "execute_result"
    }
   ],
   "source": [
    "class Yogurt():\n",
    "    def __init__(self):\n",
    "        self.color = \"white\"\n",
    "        self.fruit = \"durian\"\n",
    "        self.granola = \"Oat\"\n",
    "        self.taste = \"good\"\n",
    "chobani = Yogurt()\n",
    "chobani.granola"
   ]
  },
  {
   "cell_type": "markdown",
   "metadata": {},
   "source": [
    "##### Changing Class Attributes <br>\n",
    "<p>Keep in mind there are global class attributes and then there are attributes only available to each class instance which won't effect other classes.</p>"
   ]
  },
  {
   "cell_type": "code",
   "execution_count": 13,
   "metadata": {},
   "outputs": [
    {
     "name": "stdout",
     "output_type": "stream",
     "text": [
      "strawberries\n"
     ]
    }
   ],
   "source": [
    "chobani.fruit = 'strawberries'\n",
    "print(chobani.fruit)"
   ]
  },
  {
   "cell_type": "code",
   "execution_count": null,
   "metadata": {},
   "outputs": [],
   "source": []
  },
  {
   "cell_type": "markdown",
   "metadata": {},
   "source": []
  },
  {
   "cell_type": "markdown",
   "metadata": {},
   "source": [
    "##### In-Class Exercise #2 - Add a doors and seats attribute to your 'Car' class then print out two different instances with different doors and seats"
   ]
  },
  {
   "cell_type": "code",
   "execution_count": 19,
   "metadata": {},
   "outputs": [
    {
     "name": "stdout",
     "output_type": "stream",
     "text": [
      "4 5\n",
      "2 2\n"
     ]
    }
   ],
   "source": [
    "class Cars():\n",
    "    def __init__(self,doors,seats):\n",
    "        self.doors = doors\n",
    "        self.seats = seats\n",
    "honda_crv = Cars(4,5)\n",
    "tesla_roadster = Cars(2,2)\n",
    "print(honda_crv.doors, honda_crv.seats)\n",
    "print(tesla_roadster.doors,tesla_roadster.seats)"
   ]
  },
  {
   "cell_type": "markdown",
   "metadata": {},
   "source": [
    "## Class Methods <br>\n",
    "<p>While inside of a class, functions are referred to as 'methods'. If you hear someone mention methods, they're speaking about classes. Methods are essentially functions, but only callable on the instances of a class.</p>"
   ]
  },
  {
   "cell_type": "markdown",
   "metadata": {},
   "source": [
    "##### Creating"
   ]
  },
  {
   "cell_type": "code",
   "execution_count": 33,
   "metadata": {},
   "outputs": [
    {
     "name": "stdout",
     "output_type": "stream",
     "text": [
      "You have items in your bag!\n"
     ]
    },
    {
     "name": "stdin",
     "output_type": "stream",
     "text": [
      "What do you want to add? bra\n"
     ]
    }
   ],
   "source": [
    "class ShoppingBag():\n",
    "    \"\"\"This ShoppingBag has 5 methods which add and show items, and will increase bag capacity by 10, as long as an \n",
    "        integer is passed when the class is instatiiated\n",
    "    \"\"\"\n",
    "    \n",
    "    def __init__(self,handles,capacity,items):\n",
    "        self.handles = handles\n",
    "        self.capacity = capacity\n",
    "        self.items = items\n",
    "        \n",
    "    def showShoppingBag(self):\n",
    "        print(\"You have items in your bag!\")\n",
    "        for i in self.items:\n",
    "            print(i)\n",
    "    def showCapacity(self):\n",
    "        print(\"Your capacity is {}\".format(self.capacity))\n",
    "\n",
    "    def addToShoppingBag(self):\n",
    "        product = input(\"What do you want to add?\")\n",
    "        self.items.append(product)\n",
    "    \n",
    "    def changeBagCapacity(self,capacity):\n",
    "        self.capacity = capacity\n",
    "    \n",
    "    def increaseCapacity(self, capacity):\n",
    "        if self.capacity == isinstance(self.capacity, str):\n",
    "            print(\"You can't do that here...\")\n",
    "        else:\n",
    "            self.capacity += 10\n",
    "aldi_bag = ShoppingBag(2,\"large\",[])\n",
    "aldi_bag.showShoppingBag()\n",
    "aldi_bag.addToShoppingBag()"
   ]
  },
  {
   "cell_type": "markdown",
   "metadata": {},
   "source": [
    "##### Calling"
   ]
  },
  {
   "cell_type": "code",
   "execution_count": null,
   "metadata": {},
   "outputs": [],
   "source": [
    "# See Above\n",
    "aldi_bag.showCapacity()"
   ]
  },
  {
   "cell_type": "markdown",
   "metadata": {},
   "source": [
    "##### Modifying an Attribute's Value Through a Method"
   ]
  },
  {
   "cell_type": "code",
   "execution_count": 27,
   "metadata": {},
   "outputs": [
    {
     "name": "stdout",
     "output_type": "stream",
     "text": [
      "Your capacity is Small\n",
      "Capacity after change....\n",
      "Your capacity is Small\n"
     ]
    }
   ],
   "source": [
    "aldi_bag.showCapacity()\n",
    "print(\"Capacity after change....\")\n",
    "aldi_bag.changeBagCapacity(\"Small\")\n",
    "aldi_bag.showCapacity()\n"
   ]
  },
  {
   "cell_type": "markdown",
   "metadata": {},
   "source": [
    "##### Incrementing an Attribute's Value Through a Method"
   ]
  },
  {
   "cell_type": "code",
   "execution_count": 35,
   "metadata": {},
   "outputs": [
    {
     "name": "stdout",
     "output_type": "stream",
     "text": [
      "Your capacity is 20\n"
     ]
    }
   ],
   "source": [
    "# proper way of incrementing an attribute\n",
    "menards_bag = ShoppingBag(2,10,[])\n",
    "menards_bag.increaseCapacity(\"Small\")\n",
    "menards_bag.showCapacity()"
   ]
  },
  {
   "cell_type": "markdown",
   "metadata": {},
   "source": [
    "### Creating a Linked List Class"
   ]
  },
  {
   "cell_type": "code",
   "execution_count": 36,
   "metadata": {},
   "outputs": [
    {
     "name": "stdout",
     "output_type": "stream",
     "text": [
      "12\n",
      "99\n",
      "37\n"
     ]
    }
   ],
   "source": [
    "class LinkedListNode():\n",
    "    def __init__(self,value):\n",
    "        self.value = value\n",
    "        self.next = None # this is the next pointer, which initially points to nothing\n",
    "    def traverseList(self):\n",
    "        node = self # start at the head node\n",
    "        while node != None:\n",
    "            print(node.value) #access the node value\n",
    "            node = node.next # move to the next link in chain\n",
    "            \n",
    "# Create nodes for the list            \n",
    "node1 = LinkedListNode(12)\n",
    "node2 = LinkedListNode(99)\n",
    "node3 = LinkedListNode(37)\n",
    "\n",
    "node1.next = node2 # 12 --> 99\n",
    "node2.next = node3 # 99 --> 37\n",
    "\n",
    "node1.traverseList()\n"
   ]
  },
  {
   "cell_type": "markdown",
   "metadata": {},
   "source": [
    "##### In-Class Exercise #3 - Add a method that takes in three parameters of year, doors and seats and prints out a formatted print statement with make, model, year, seats, and doors"
   ]
  },
  {
   "cell_type": "code",
   "execution_count": 46,
   "metadata": {},
   "outputs": [
    {
     "name": "stdout",
     "output_type": "stream",
     "text": [
      "Your car info is: Year:2019, Model:Explorer, Make:Ford, Doors:4, Seats:5\n"
     ]
    }
   ],
   "source": [
    "class Cars():\n",
    "    def __init__(self,make,model, year):\n",
    "        self.make = make\n",
    "        self.model = model\n",
    "        self.year = year\n",
    "    def printInfo(self,year,doors,seats):\n",
    "        print(\"Your car info is: Year:{}, Model:{}, Make:{}, Doors:{}, Seats:{}\".format(year,self.model,self.make,doors,seats))\n",
    "    \n",
    "    \n",
    "chevy = Cars(\"Ford\", \"Explorer\", \"2019\")\n",
    "chevy.printInfo(2019,4,5)"
   ]
  },
  {
   "cell_type": "markdown",
   "metadata": {},
   "source": [
    "## Inheritance <br>\n",
    "<p>You can create a child-parent relationship between two classes by using inheritance. What this allows you to do is have overriding methods, but also inherit traits from the parent class. Think of it as an actual parent and child, the child will inherit the parent's genes, as will the classes in OOP</p>"
   ]
  },
  {
   "cell_type": "markdown",
   "metadata": {},
   "source": [
    "##### Syntax for Inheriting from a Parent Class"
   ]
  },
  {
   "cell_type": "code",
   "execution_count": 47,
   "metadata": {},
   "outputs": [
    {
     "name": "stdout",
     "output_type": "stream",
     "text": [
      "This dog is black and his name is max\n"
     ]
    }
   ],
   "source": [
    "class Animal():\n",
    "    acceleration = 9.8\n",
    "    \n",
    "    def __init__(self,name,species,legs=4):\n",
    "        self.name = name\n",
    "        self.species = species\n",
    "        self.legs = legs\n",
    "    def makeSound(self):\n",
    "        print(\"Some generic sound\")\n",
    "class Dog(Animal):\n",
    "    speed = 15\n",
    "    \n",
    "    def __init__(self,name,species,color,legs=4):\n",
    "        Animal.__init__(self,name,species,legs)\n",
    "        self.color = color\n",
    "    def makeSound(self):\n",
    "        print(\"Bark\")\n",
    "    def printInfo(self):\n",
    "        print(\"This dog is {} and his name is {}\".format(self.color,self.name))\n",
    "        \n",
    "cat = Animal('Fat cat', 'Feline')\n",
    "dog = Dog('max', 'k9', 'black')\n",
    "dog.printInfo()"
   ]
  },
  {
   "cell_type": "markdown",
   "metadata": {},
   "source": [
    "##### The \\__init\\__() Method for a Child Class - super()"
   ]
  },
  {
   "cell_type": "code",
   "execution_count": 49,
   "metadata": {
    "scrolled": true
   },
   "outputs": [
    {
     "name": "stdout",
     "output_type": "stream",
     "text": [
      "This dog is black and his name is max\n"
     ]
    }
   ],
   "source": [
    "class Animal():\n",
    "    acceleration = 9.8\n",
    "    \n",
    "    def __init__(self,name,species,legs=4):\n",
    "        self.name = name\n",
    "        self.species = species\n",
    "        self.legs = legs\n",
    "    def makeSound(self):\n",
    "        print(\"Some generic sound\")\n",
    "class Dog(Animal):\n",
    "    speed = 15\n",
    "    \n",
    "    def __init__(self,name,species,color,legs=4):\n",
    "        super().__init__(name,species,legs)\n",
    "        self.color = color\n",
    "    def makeSound(self):\n",
    "        print(\"Bark\")\n",
    "    def printInfo(self):\n",
    "        print(\"This dog is {} and his name is {}\".format(self.color,self.name))\n",
    "        \n",
    "cat = Animal('Fat cat', 'Feline')\n",
    "dog = Dog('max', 'k9', 'black')\n",
    "dog.printInfo()\n",
    "\n"
   ]
  },
  {
   "cell_type": "markdown",
   "metadata": {},
   "source": [
    "##### Defining Attributes and Methods for the Child Class"
   ]
  },
  {
   "cell_type": "code",
   "execution_count": null,
   "metadata": {},
   "outputs": [],
   "source": [
    "# See Above"
   ]
  },
  {
   "cell_type": "markdown",
   "metadata": {},
   "source": [
    "##### Method Overriding"
   ]
  },
  {
   "cell_type": "code",
   "execution_count": null,
   "metadata": {},
   "outputs": [],
   "source": [
    "# See Above"
   ]
  },
  {
   "cell_type": "markdown",
   "metadata": {},
   "source": [
    "##### In-Class Exercise #4 - Create a class 'Ford' that inherits from 'Car' class and initialize it as a Blue Ford Explorer with 4 wheels using the super() method, add a method to car which prints 'this is a car' and create an overriding method in class Ford that prints the information on the car"
   ]
  },
  {
   "cell_type": "code",
   "execution_count": null,
   "metadata": {},
   "outputs": [],
   "source": [
    "class Ford():\n",
    "    acceleration = 9.8\n",
    "    \n",
    "    def __init__(self,name,species,legs=4):\n",
    "        self.name = name\n",
    "        self.species = species\n",
    "        self.legs = legs\n",
    "    def makeSound(self):\n",
    "        print(\"Some generic sound\")\n",
    "class Dog(Animal):\n",
    "    speed = 15\n",
    "    \n",
    "    def __init__(self,name,species,color,legs=4):\n",
    "        super().__init__(name,species,legs)\n",
    "        self.color = color\n",
    "    def makeSound(self):\n",
    "        print(\"Bark\")\n",
    "    def printInfo(self):\n",
    "        print(\"This dog is {} and his name is {}\".format(self.color,self.name))\n",
    "        \n",
    "cat = Animal('Fat cat', 'Feline')\n",
    "dog = Dog('max', 'k9', 'black')\n",
    "dog.printInfo()\n",
    "\n",
    "engine = \"4.7L\"\n",
    "    \n",
    "    def __init__(self,wheels,color):\n",
    "        self.wheels = wheels\n",
    "        self.color = \"Blue\"\n",
    "ford = Car(4)\n",
    "ford.wheels\n",
    "\n",
    "class Toy():\n",
    "    kind = \"car\"\n",
    "    \n",
    "    def __init__(self,wheels,color,make):\n",
    "        self.make = make\n",
    "        super().__init__(self,wheels,color,make)\n",
    "        \n",
    "        \n",
    "tonka = Toy(1,1,4,2,4)\n",
    "tonka.horn\n",
    "\n",
    "# I NEED HELP WITH THIS ONE STILL"
   ]
  },
  {
   "cell_type": "markdown",
   "metadata": {},
   "source": [
    "## Classes as Attributes <br>\n",
    "<p>Classes can also be used as attributes within another class. This is useful in situations where you need to keep variables locally stored, instead of globally stored.</p>"
   ]
  },
  {
   "cell_type": "code",
   "execution_count": 51,
   "metadata": {},
   "outputs": [
    {
     "name": "stdout",
     "output_type": "stream",
     "text": [
      "6\n",
      "7.8\n"
     ]
    }
   ],
   "source": [
    "class Battery():\n",
    "    volts = 7.8\n",
    "    def __init__(self,cells):\n",
    "        self.cells = cells\n",
    "class Car():\n",
    "    def __init__(self,year,make,model,battery):\n",
    "        self.year = year\n",
    "        self.make = make\n",
    "        self.model = model\n",
    "        self.battery = battery\n",
    "batt = Battery(6)\n",
    "tesla = Car(\"2019\", \"Tesla\", \"Model X\", batt)\n",
    "print(tesla.battery.cells)\n",
    "print(tesla.battery.volts)"
   ]
  },
  {
   "cell_type": "markdown",
   "metadata": {},
   "source": [
    "# Exercises"
   ]
  },
  {
   "cell_type": "markdown",
   "metadata": {},
   "source": [
    "### Exercise 1 - Turn the shopping cart program from yesterday into an object-oriented program\n",
    "\n",
    "The comments in the cell below are there as a guide for thinking about the problem. However, if you feel a different way is best for you and your own thought process, please do what feels best for you by all means."
   ]
  },
  {
   "cell_type": "code",
   "execution_count": null,
   "metadata": {},
   "outputs": [
    {
     "name": "stdout",
     "output_type": "stream",
     "text": [
      "your shoping cart \n",
      "\n",
      " You can exit by type quit \n",
      "\n",
      " for check items in cart type: check \n",
      "\n",
      " for add item into your cart type: add \n",
      "\n",
      " for remove items in cart type: remove \n",
      "\n",
      " for clear your cart type: clear\n"
     ]
    }
   ],
   "source": [
    "# Create a class called cart that retains items and has methods to add, remove, and show\n",
    "\n",
    "class shopingCart():\n",
    "\n",
    "\n",
    "    def __init__(self,items):\n",
    "        self.items = items\n",
    "\n",
    "\n",
    "\n",
    "    def add_to_cart(self):\n",
    "\n",
    "        while True:\n",
    "            item = input(\"Enter an item wich you wanna add: \")\n",
    "            self.items[item] = input(\"Enter an price: \")\n",
    "            answer = input(\"Do you want to add more items? \")\n",
    "            if answer.lower() == \"no\":\n",
    "                break\n",
    "\n",
    "\n",
    "    def cart_items(self):\n",
    "        for key, value in self.items.items():\n",
    "            print (\"item: {} price: $ {}\".format(key, value))\n",
    "\n",
    "    def remove_from_cart(self):\n",
    "\n",
    "            while True:\n",
    "                check = False\n",
    "                answer = input(\"Enter an item wich you want to remove from cart \\n \")\n",
    "                for key in self.items.keys():\n",
    "                    if answer.lower() == key:\n",
    "                        check = True\n",
    "                if check == True:\n",
    "                    del self.items[answer]\n",
    "                    break\n",
    "                else:\n",
    "                    print(\"You don't have this item in your cart\")\n",
    "\n",
    "\n",
    "    def clear_cart(self):\n",
    "        answer = input(\"do you want to empty your cart? yes/no\")\n",
    "        if answer.lower() == \"no\":\n",
    "            return\n",
    "        else:\n",
    "            self.items.clear()\n",
    "def shop(cart):\n",
    "    print(\"your shoping cart \\n\\n You can exit by type quit \\n\\n for check items in cart type: check \\n\\n for add item into your cart type: add \\n\")  \n",
    "    print (\" for remove items in cart type: remove \\n\\n for clear your cart type: clear\")\n",
    "    while True: \n",
    "        answer = input(\"so what you want to do? \")\n",
    "        if answer.lower() == \"quit\":\n",
    "             break\n",
    "        elif answer.lower() == \"check\":\n",
    "            cart.cart_items()\n",
    "        elif answer.lower() == \"add\":\n",
    "            cart.add_to_cart()\n",
    "        elif answer.lower() == \"remove\":\n",
    "            cart.remove_from_cart()\n",
    "        elif answer.lower() == \"clear\":\n",
    "             cart.clear_cart() \n",
    "        else:\n",
    "            print(\"We dont have this options\")\n",
    "     \n",
    " \n",
    "cart = shopingCart({})\n",
    "shop(cart)\n",
    "            "
   ]
  }
 ],
 "metadata": {
  "kernelspec": {
   "display_name": "Python 3",
   "language": "python",
   "name": "python3"
  },
  "language_info": {
   "codemirror_mode": {
    "name": "ipython",
    "version": 3
   },
   "file_extension": ".py",
   "mimetype": "text/x-python",
   "name": "python",
   "nbconvert_exporter": "python",
   "pygments_lexer": "ipython3",
   "version": "3.7.3"
  }
 },
 "nbformat": 4,
 "nbformat_minor": 2
}
